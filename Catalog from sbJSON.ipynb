{
 "cells": [
  {
   "cell_type": "markdown",
   "metadata": {
    "deletable": true,
    "editable": true
   },
   "source": [
    "This notebook experiments with building out a fully customized TerriaJS catalog from a search result of ScienceBase Items, transforming sbJSON into the json catalog format used by TerriaJS. Resulting catalog JSON files are output to the local directory, deployed to GitHub, and then callable into an out of the box TerriaJS mapper."
   ]
  },
  {
   "cell_type": "code",
   "execution_count": 1,
   "metadata": {
    "collapsed": false,
    "deletable": true,
    "editable": true
   },
   "outputs": [],
   "source": [
    "import requests,json\n",
    "from IPython.display import display"
   ]
  },
  {
   "cell_type": "code",
   "execution_count": 6,
   "metadata": {
    "collapsed": false,
    "deletable": true,
    "editable": true
   },
   "outputs": [],
   "source": [
    "# Get what we want to work with using a ScienceBase /items/ query\n",
    "sbURL = \"https://www.sciencebase.gov/catalog/items?parentId=56bba648e4b08d617f657960&&filter0=browseType%3DArcGIS+REST+Map+Service&format=json&fields=title,body,distributionLinks&loadInstances=true\"\n",
    "sbJSON = requests.get(sbURL).json()\n",
    "\n"
   ]
  },
  {
   "cell_type": "code",
   "execution_count": 11,
   "metadata": {
    "collapsed": false,
    "deletable": true,
    "editable": true
   },
   "outputs": [
    {
     "data": {
      "text/plain": [
       "{'baseMapName': 'Bing Maps Roads',\n",
       " 'catalog': [{'isOpen': 'true',\n",
       "   'items': [{'description': 'General land manager description (e.g. Federal, Tribal, State, Private) standardized for the US. See PAD-US Data Standard for \"Agency Name\" to \"Agency Type\" crosswalk or look up table included in data download, for full domain descriptions. Use \"Manager Type\" rather than \"Owner Type\" for the most complete depiction of federal lands as overlapping designations (i.e. \"Designation\") and ownership related data gaps (i.e. \"Unknown\") occur in the federal theme.',\n",
       "     'id': '56bba5b8e4b08d617f65795a',\n",
       "     'isEnabled': 'true',\n",
       "     'layers': '0',\n",
       "     'name': 'PADUS by Manager Type',\n",
       "     'type': 'esri-mapServer',\n",
       "     'url': 'https://gis1.usgs.gov/arcgis/rest/services/PADUS1_4/General_Agency_Level/MapServer'},\n",
       "    {'description': 'Level of public access permitted. Open requires no special requirements for public access to the property (may include regular hours available). Restricted requires a special permit from the owner for access, a registration permit on public land or has highly variable times when open to use. Closed \\x96 occurs where no public access is allowed (land bank property, special ecological study areas, military bases, etc.). Unknown is assigned where information is not currently available. Access is assigned categorically by Designation Type or provided by PAD-US State Data Stewards, federal or NGO partners. Contact the PAD-US Coordinator with available public access information: lisajjohnson@boisestate.edu',\n",
       "     'id': '56bba5dfe4b08d617f65795e',\n",
       "     'isEnabled': 'true',\n",
       "     'layers': '0',\n",
       "     'name': 'PADUS by Access',\n",
       "     'type': 'esri-mapServer',\n",
       "     'url': 'https://gis1.usgs.gov/arcgis/rest/services/PADUS1_4/Public_Access/MapServer'},\n",
       "    {'description': 'The GAP Status Code is a measure of management intent to conserve biodiversity&nbsp;defined as: Status 1: An area having permanent protection from conversion of natural land cover and a mandated management plan in operation to maintain a natural state within which disturbance events (of natural type, frequency, intensity, and legacy) are allowed to proceed without interference or are mimicked through management. Status 2: An area having permanent protection from conversion of natural land cover and a mandated management plan in operation to maintain a primarily natural state, but which may receive uses or management practices that degrade the quality of existing natural communities, including suppression of natural disturbance. Status 3: An area having permanent protection from conversion of natural land cover for the majority of the area, but subject to extractive uses of either a broad, low-intensity type (e.g., logging, Off Highway Vehicle recreation) or localized intense type (e.g., mining). It also confers protection to federally listed endangered and threatened species throughout the area. Status 4: There are no known public or private institutional mandates or legally recognized easements or deed restrictions held by the managing entity to prevent conversion of natural habitat types to anthropogenic habitat types. The area generally allows conversion to unnatural land cover throughout or management intent is unknown. See the PADUS Standards Manual for a summary of methods or the geodatabase look up table for short descriptions.&nbsp;<br>\\n<br>\\nThis measure of management intent, a necessary analysis input utilized by USGS GAP to achieve its mission, facilitates biodiversity assessments (i.e. GAP Status Code 1 and 2) for the nation.&nbsp; GAP Status Code 3 may also be useful for multiple use management assessments across the landscape.&nbsp;While locally assigned or reviewed GAP Codes (and IUCN Categories) are transferred between PAD-US updates, a categorical assignment <strong>&nbsp;</strong>based upon “Designation Type” is assigned by GAP when no other information is available.&nbsp; GAP is collaborating with the NOAA Marine Protected Areas (MPA) Center to update a similar crosswalk for MPAs specifically. &nbsp; Default GAP Codes reflect the lowest conservation value&nbsp;applicable for categorical assignment by designation type at the national scale.&nbsp;<br>\\n&nbsp;<br>\\n<br>\\n&nbsp;',\n",
       "     'id': '56bba50ce4b08d617f657956',\n",
       "     'isEnabled': 'true',\n",
       "     'layers': '0',\n",
       "     'name': 'PADUS by GAP Status',\n",
       "     'type': 'esri-mapServer',\n",
       "     'url': 'https://gis1.usgs.gov/arcgis/rest/services/PADUS1_4/GAP_Status_Code/MapServer'},\n",
       "    {'description': 'Land manager or administrative agency (e.g. USFS, State Fish and Game, City Land, TNC) standardized for the US. See PAD-US Data Standard or the \"Agency Name\" look-up table included in the data download for full domain descriptions. Use \"Manager Name\" rather than \"Owner Name\" for the best depiction of federal lands as many overlapping designations (i.e. \"Designation\") and ownership related data gaps (i.e. \"Unknown\") occur in the federal theme. GAP attributes the applicable \"Agency Name\" to all records provided by the agency data steward in the \"Manager Name\" field. \"Owner Name\" contains \\'unknown\\' values where parcel level ownership data are not yet available from authoritative data sources.',\n",
       "     'id': '56bba586e4b08d617f657958',\n",
       "     'isEnabled': 'true',\n",
       "     'layers': '0',\n",
       "     'name': 'PADUS by Manager Name',\n",
       "     'type': 'esri-mapServer',\n",
       "     'url': 'https://gis1.usgs.gov/arcgis/rest/services/PADUS1_4/Fine_Agency_Level/MapServer'},\n",
       "    {'description': 'All protected areas classified by protection level and manager type. Shows for each manager type (federal, state, etc.) lands that are protected for biodiversity and for multiple uses - allows users to see what level of agency has what extent of biodiversity protection in their management approach.',\n",
       "     'id': '5772ea00e4b07657d1a88960',\n",
       "     'name': 'Protected Areas by Manager',\n",
       "     'type': 'esri-mapServer',\n",
       "     'url': 'https://gis1.usgs.gov/arcgis/rest/services/PADUS1_4/Protected_Areas_by_Manager/MapServer'}],\n",
       "   'name': 'NFHP 2010 ArcGIS Services',\n",
       "   'type': 'group'}],\n",
       " 'corsDomains': ['sciencebase.gov', 'corsproxy.com'],\n",
       " 'homeCamera': {'east': -66, 'north': 72, 'south': 18, 'west': -175},\n",
       " 'initialViewerMode': '2d',\n",
       " 'services': []}"
      ]
     },
     "metadata": {},
     "output_type": "display_data"
    },
    {
     "data": {
      "text/plain": [
       "6096"
      ]
     },
     "execution_count": 11,
     "metadata": {},
     "output_type": "execute_result"
    }
   ],
   "source": [
    "theCatalog = {}\n",
    "theCatalog[\"corsDomains\"] = [\"sciencebase.gov\",\"corsproxy.com\"]\n",
    "theCatalog[\"baseMapName\"] = \"Bing Maps Roads\"\n",
    "theCatalog[\"initialViewerMode\"] = \"2d\"\n",
    "theCatalog[\"services\"] = []\n",
    "\n",
    "theCatalog[\"homeCamera\"] = {}\n",
    "theCatalog[\"homeCamera\"][\"west\"] = -175\n",
    "theCatalog[\"homeCamera\"][\"east\"] = -66\n",
    "theCatalog[\"homeCamera\"][\"north\"] = 72\n",
    "theCatalog[\"homeCamera\"][\"south\"] = 18\n",
    "\n",
    "theCatalog[\"catalog\"] = []\n",
    "\n",
    "padusGroup = {}\n",
    "padusGroup[\"name\"] = \"Protected Areas Database of the U.S.\"\n",
    "padusGroup[\"type\"] = \"group\"\n",
    "padusGroup[\"isOpen\"] = \"true\"\n",
    "\n",
    "padusGroup[\"items\"] = []\n",
    "\n",
    "for idx, item in enumerate(sbJSON[\"items\"]):\n",
    "    thisItem = {}\n",
    "    thisItem[\"id\"] = item[\"id\"]\n",
    "    thisItem[\"name\"] = item[\"title\"]\n",
    "    thisItem[\"description\"] = item[\"body\"]\n",
    "    serviceCount = 0\n",
    "\n",
    "    if idx < 4:\n",
    "        thisItem[\"layers\"] = \"0\"\n",
    "        thisItem[\"isEnabled\"] = \"true\"\n",
    "\n",
    "    for link in item[\"distributionLinks\"]:\n",
    "        if link[\"title\"] == \"ArcGIS REST Service\":\n",
    "            serviceCount = serviceCount + 1\n",
    "            if serviceCount > 1:\n",
    "                break\n",
    "            thisItem[\"type\"] = \"esri-mapServer\"\n",
    "            thisItem[\"url\"] = link[\"uri\"]\n",
    "    padusGroup[\"items\"].append(thisItem.copy())\n",
    "\n",
    "theCatalog[\"catalog\"].append(nfhpGroup.copy())\n",
    "\n",
    "display (theCatalog)\n",
    "\n",
    "f = open('catalog.json', 'wt', encoding='utf-8')\n",
    "f.write(json.dumps(theCatalog).replace(': \"true\"', ': true'))"
   ]
  },
  {
   "cell_type": "code",
   "execution_count": null,
   "metadata": {
    "collapsed": true,
    "deletable": true,
    "editable": true
   },
   "outputs": [],
   "source": []
  },
  {
   "cell_type": "code",
   "execution_count": null,
   "metadata": {
    "collapsed": true,
    "deletable": true,
    "editable": true
   },
   "outputs": [],
   "source": []
  }
 ],
 "metadata": {
  "kernelspec": {
   "display_name": "Python 3",
   "language": "python",
   "name": "python3"
  },
  "language_info": {
   "codemirror_mode": {
    "name": "ipython",
    "version": 3
   },
   "file_extension": ".py",
   "mimetype": "text/x-python",
   "name": "python",
   "nbconvert_exporter": "python",
   "pygments_lexer": "ipython3",
   "version": "3.5.3"
  }
 },
 "nbformat": 4,
 "nbformat_minor": 0
}
