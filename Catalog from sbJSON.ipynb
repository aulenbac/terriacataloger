{
 "cells": [
  {
   "cell_type": "markdown",
   "metadata": {},
   "source": [
    "This notebook experiments with building out a fully customized TerriaJS catalog from a search result of ScienceBase Items, transforming sbJSON into the json catalog format used by TerriaJS. Resulting catalog JSON files are output to the local directory, deployed to GitHub, and then callable into an out of the box TerriaJS mapper."
   ]
  },
  {
   "cell_type": "code",
   "execution_count": 6,
   "metadata": {
    "collapsed": false
   },
   "outputs": [],
   "source": [
    "import requests,json\n",
    "from IPython.display import display"
   ]
  },
  {
   "cell_type": "code",
   "execution_count": 7,
   "metadata": {
    "collapsed": false
   },
   "outputs": [],
   "source": [
    "# Get what we want to work with using a ScienceBase /items/ query\n",
    "sbURL = \"https://www.sciencebase.gov/catalog/items?q=&max=20&filter=browseType%3DArcGIS%20Service%20Definition&folderId=4f4e4773e4b07f02db47e241&format=json&fields=title,body,distributionLinks\"\n",
    "sbJSON = requests.get(sbURL).json()\n",
    "\n"
   ]
  },
  {
   "cell_type": "code",
   "execution_count": 17,
   "metadata": {
    "collapsed": false
   },
   "outputs": [
    {
     "data": {
      "text/plain": [
       "{'baseMapName': 'Bing Maps Roads',\n",
       " 'catalog': [{'isOpen': 'true',\n",
       "   'items': [{'name': 'Pacific Northwest Aquatic Monitoring Partnership (PNAMP) static dataset for NFHP Thematic Viewer 201412',\n",
       "     'type': 'esri-mapServer-group',\n",
       "     'url': 'https://www.sciencebase.gov/arcgis/rest/services/Catalog/538747fbe4b0aa26cd7b5422/MapServer'},\n",
       "    {'name': 'Official Recognized Boundary of Atlantic Coastal Fish Habitat Partnership, 2013',\n",
       "     'type': 'esri-mapServer-group',\n",
       "     'url': 'https://www.sciencebase.gov/arcgis/rest/services/Catalog/526543e2e4b0d5a9feede1df/MapServer'},\n",
       "    {'name': 'Official Recognized Boundary of Fishers & Farmers Partnership, 2013',\n",
       "     'type': 'esri-mapServer-group',\n",
       "     'url': 'https://www.sciencebase.gov/arcgis/rest/services/Catalog/526ac1f1e4b0be4db9fbf2aa/MapServer'},\n",
       "    {'name': 'Official Recognized Boundary of Eastern Brook Trout Joint Venture, 2013',\n",
       "     'type': 'esri-mapServer-group',\n",
       "     'url': 'https://www.sciencebase.gov/arcgis/rest/services/Catalog/52e80f56e4b00ae347ff0e7a/MapServer'},\n",
       "    {'name': 'Official Recognized Boundary of Hawaii Fish Habitat Partnership, 2013',\n",
       "     'type': 'esri-mapServer-group',\n",
       "     'url': 'https://www.sciencebase.gov/arcgis/rest/services/Catalog/52e81b82e4b00ae347ff0eaf/MapServer'},\n",
       "    {'name': 'Official Recognized Zones of Pacific Marine and Estuarine Fish Habitat Partnership, 2013',\n",
       "     'type': 'esri-mapServer-group',\n",
       "     'url': 'https://www.sciencebase.gov/arcgis/rest/services/Catalog/5343f5dce4b0cafa1c3dd7ec/MapServer'},\n",
       "    {'name': 'Official Recognized Boundary of Western Native Trout Initiative, 2013',\n",
       "     'type': 'esri-mapServer-group',\n",
       "     'url': 'https://www.sciencebase.gov/arcgis/rest/services/Catalog/52e824e3e4b00ae347ff0eed/MapServer'},\n",
       "    {'name': 'Official Recognized Boundary of Great Lakes Basin Fish Habitat Partnership, 2013',\n",
       "     'type': 'esri-mapServer-group',\n",
       "     'url': 'https://www.sciencebase.gov/arcgis/rest/services/Catalog/52e815ede4b00ae347ff0e92/MapServer'},\n",
       "    {'name': 'Bivalvia Subset of Ocean Biogeographic Information System (OBIS) - USA Dataset Collection for NFHP Thematic Viewer 20141202',\n",
       "     'type': 'esri-mapServer-group',\n",
       "     'url': 'https://www.sciencebase.gov/arcgis/rest/services/Catalog/547f5ed9e4b09357f06013f3/MapServer'},\n",
       "    {'name': 'Official Recognized Subregions of Atlantic Coastal Fish Habitat Partnership, 2013',\n",
       "     'type': 'esri-mapServer-group',\n",
       "     'url': 'https://www.sciencebase.gov/arcgis/rest/services/Catalog/534594ace4b0169f5005bc33/MapServer'},\n",
       "    {'name': 'Official Recognized Boundary of Southeast Alaska Fish Habitat Partnership, 2014',\n",
       "     'type': 'esri-mapServer-group',\n",
       "     'url': 'https://www.sciencebase.gov/arcgis/rest/services/Catalog/53399fc2e4b0db25ad10d2a6/MapServer'},\n",
       "    {'name': 'Official Recognized Boundaries of Fish Habitat Partnerships of the National Fish Habitat Partnership, 2013',\n",
       "     'type': 'esri-mapServer-group',\n",
       "     'url': 'https://www.sciencebase.gov/arcgis/rest/services/Catalog/53710d71e4b07ccdd78b368e/MapServer'},\n",
       "    {'name': 'Official Recognized Boundary of Great Plains Fish Habitat Partnership, 2013',\n",
       "     'type': 'esri-mapServer-group',\n",
       "     'url': 'https://www.sciencebase.gov/arcgis/rest/services/Catalog/5241db1ae4b0570e3d457434/MapServer'},\n",
       "    {'name': 'Official Recognized Focus Area of Pacific Marine and Estuarine Fish Habitat Partnership, 2013',\n",
       "     'type': 'esri-mapServer-group',\n",
       "     'url': 'https://www.sciencebase.gov/arcgis/rest/services/Catalog/52e81e8ee4b00ae347ff0ec3/MapServer'},\n",
       "    {'name': 'Official Recognized Boundary of Midwest Glacial Lakes Partnership, 2013',\n",
       "     'type': 'esri-mapServer-group',\n",
       "     'url': 'https://www.sciencebase.gov/arcgis/rest/services/Catalog/5241dbd6e4b0570e3d457443/MapServer'},\n",
       "    {'name': 'Official Recognized Boundary of California Fish Passage Forum, 2013',\n",
       "     'type': 'esri-mapServer-group',\n",
       "     'url': 'https://www.sciencebase.gov/arcgis/rest/services/Catalog/52274bd2e4b01904cf5a81d1/MapServer'},\n",
       "    {'name': 'National Fish Habitat Action Plan (NFHAP) 2010 Community Fish Data',\n",
       "     'type': 'esri-mapServer-group',\n",
       "     'url': 'https://www.sciencebase.gov/arcgis/rest/services/Catalog/521519e0e4b06d85e095c50f/MapServer'},\n",
       "    {'name': 'Official Recognized Boundary of Driftless Area Restoration Effort, 2013',\n",
       "     'type': 'esri-mapServer-group',\n",
       "     'url': 'https://www.sciencebase.gov/arcgis/rest/services/Catalog/52274d4ce4b01904cf5a81e0/MapServer'},\n",
       "    {'name': 'Official Recognized Boundary of Desert Fish Habitat Partnership, 2013',\n",
       "     'type': 'esri-mapServer-group',\n",
       "     'url': 'https://www.sciencebase.gov/arcgis/rest/services/Catalog/52274ef2e4b01904cf5a81f3/MapServer'},\n",
       "    {'name': 'Simplified Boundary of Eastern Brook Trout Joint Venture,2013',\n",
       "     'type': 'esri-mapServer-group',\n",
       "     'url': 'https://www.sciencebase.gov/arcgis/rest/services/Catalog/52e80fabe4b00ae347ff0e85/MapServer'}],\n",
       "   'name': 'NFHP 2010',\n",
       "   'type': 'group'}],\n",
       " 'corsDomains': ['sciencebase.gov', 'corsproxy.com'],\n",
       " 'initialViewerMode': '2d',\n",
       " 'services': []}"
      ]
     },
     "metadata": {},
     "output_type": "display_data"
    }
   ],
   "source": [
    "theCatalog = {}\n",
    "theCatalog[\"corsDomains\"] = [\"sciencebase.gov\",\"corsproxy.com\"]\n",
    "theCatalog[\"baseMapName\"] = \"Bing Maps Roads\"\n",
    "theCatalog[\"initialViewerMode\"] = \"2d\"\n",
    "theCatalog[\"services\"] = []\n",
    "\n",
    "theCatalog[\"homeCamera\"] = {}\n",
    "theCatalog[\"homeCamera\"][\"west\"]: -175,\n",
    "    \"east\": -135,\n",
    "    \"north\": 72,\n",
    "    \"south\": 55\n",
    "\n",
    "theCatalog[\"catalog\"] = []\n",
    "\n",
    "nfhpGroup = {}\n",
    "nfhpGroup[\"name\"] = \"NFHP 2010\"\n",
    "nfhpGroup[\"type\"] = \"group\"\n",
    "nfhpGroup[\"isOpen\"] = \"true\"\n",
    "\n",
    "nfhpGroup[\"items\"] = []\n",
    "\n",
    "for item in sbJSON[\"items\"]:\n",
    "    thisItem = {}\n",
    "    thisItem[\"name\"] = item[\"title\"]\n",
    "    serviceCount = 0\n",
    "    for link in item[\"distributionLinks\"]:\n",
    "        if link[\"title\"] == \"ArcGIS REST Service\":\n",
    "            serviceCount = serviceCount + 1\n",
    "            if serviceCount > 1:\n",
    "                break\n",
    "            thisItem[\"type\"] = \"esri-mapServer-group\"\n",
    "            thisItem[\"url\"] = link[\"uri\"]\n",
    "    nfhpGroup[\"items\"].append(thisItem.copy())\n",
    "\n",
    "theCatalog[\"catalog\"].append(nfhpGroup.copy())\n",
    "display (theCatalog)\n",
    "\n",
    "with open('catalog.json', 'w') as outfile:\n",
    "    json.dump(theCatalog, outfile)"
   ]
  },
  {
   "cell_type": "code",
   "execution_count": null,
   "metadata": {
    "collapsed": true
   },
   "outputs": [],
   "source": []
  }
 ],
 "metadata": {
  "kernelspec": {
   "display_name": "Python 3",
   "language": "python",
   "name": "python3"
  },
  "language_info": {
   "codemirror_mode": {
    "name": "ipython",
    "version": 3
   },
   "file_extension": ".py",
   "mimetype": "text/x-python",
   "name": "python",
   "nbconvert_exporter": "python",
   "pygments_lexer": "ipython3",
   "version": "3.5.3"
  }
 },
 "nbformat": 4,
 "nbformat_minor": 0
}
