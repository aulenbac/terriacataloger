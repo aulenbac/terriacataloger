{
 "cells": [
  {
   "cell_type": "markdown",
   "metadata": {},
   "source": [
    "This notebook experiments with building out a fully customized TerriaJS catalog from a search result of ScienceBase Items, transforming sbJSON into the json catalog format used by TerriaJS. Resulting catalog JSON files are output to the local directory, deployed to GitHub, and then callable into an out of the box TerriaJS mapper."
   ]
  },
  {
   "cell_type": "code",
   "execution_count": 29,
   "metadata": {
    "collapsed": false
   },
   "outputs": [],
   "source": [
    "import requests,json\n",
    "from IPython.display import display"
   ]
  },
  {
   "cell_type": "code",
   "execution_count": 30,
   "metadata": {
    "collapsed": false
   },
   "outputs": [],
   "source": [
    "# Get what we want to work with using a ScienceBase /items/ query\n",
    "sbURL = \"https://www.sciencebase.gov/catalog/items?q=&max=20&filter=browseType%3DArcGIS%20Service%20Definition&folderId=4f4e4773e4b07f02db47e241&format=json&fields=title,body,distributionLinks\"\n",
    "sbJSON = requests.get(sbURL).json()\n",
    "\n"
   ]
  },
  {
   "cell_type": "code",
   "execution_count": 40,
   "metadata": {
    "collapsed": false
   },
   "outputs": [
    {
     "data": {
      "text/plain": [
       "18712"
      ]
     },
     "execution_count": 40,
     "metadata": {},
     "output_type": "execute_result"
    }
   ],
   "source": [
    "theCatalog = {}\n",
    "theCatalog[\"corsDomains\"] = [\"sciencebase.gov\",\"corsproxy.com\"]\n",
    "theCatalog[\"baseMapName\"] = \"Bing Maps Roads\"\n",
    "theCatalog[\"initialViewerMode\"] = \"2d\"\n",
    "theCatalog[\"services\"] = []\n",
    "\n",
    "theCatalog[\"homeCamera\"] = {}\n",
    "theCatalog[\"homeCamera\"][\"west\"] = -175\n",
    "theCatalog[\"homeCamera\"][\"east\"] = -66\n",
    "theCatalog[\"homeCamera\"][\"north\"] = 72\n",
    "theCatalog[\"homeCamera\"][\"south\"] = 18\n",
    "\n",
    "theCatalog[\"catalog\"] = []\n",
    "\n",
    "nfhpGroup = {}\n",
    "nfhpGroup[\"name\"] = \"NFHP 2010 ArcGIS Services\"\n",
    "nfhpGroup[\"type\"] = \"group\"\n",
    "nfhpGroup[\"isOpen\"] = \"true\"\n",
    "\n",
    "nfhpGroup[\"items\"] = []\n",
    "\n",
    "for idx, item in enumerate(sbJSON[\"items\"]):\n",
    "    thisItem = {}\n",
    "    thisItem[\"id\"] = item[\"id\"]\n",
    "    thisItem[\"name\"] = item[\"title\"]\n",
    "    thisItem[\"description\"] = item[\"body\"]\n",
    "    serviceCount = 0\n",
    "\n",
    "    if idx < 4:\n",
    "        thisItem[\"layers\"] = \"0\"\n",
    "        thisItem[\"isEnabled\"] = \"true\"\n",
    "\n",
    "    for link in item[\"distributionLinks\"]:\n",
    "        if link[\"title\"] == \"ArcGIS REST Service\":\n",
    "            serviceCount = serviceCount + 1\n",
    "            if serviceCount > 1:\n",
    "                break\n",
    "            thisItem[\"type\"] = \"esri-mapServer\"\n",
    "            thisItem[\"url\"] = link[\"uri\"]\n",
    "    nfhpGroup[\"items\"].append(thisItem.copy())\n",
    "\n",
    "theCatalog[\"catalog\"].append(nfhpGroup.copy())\n",
    "\n",
    "f = open('catalog.json', 'wt', encoding='utf-8')\n",
    "f.write(json.dumps(theCatalog).replace(': \"true\"', ': true'))"
   ]
  },
  {
   "cell_type": "code",
   "execution_count": null,
   "metadata": {
    "collapsed": true
   },
   "outputs": [],
   "source": []
  },
  {
   "cell_type": "code",
   "execution_count": null,
   "metadata": {
    "collapsed": true
   },
   "outputs": [],
   "source": []
  }
 ],
 "metadata": {
  "kernelspec": {
   "display_name": "Python 3",
   "language": "python",
   "name": "python3"
  },
  "language_info": {
   "codemirror_mode": {
    "name": "ipython",
    "version": 3
   },
   "file_extension": ".py",
   "mimetype": "text/x-python",
   "name": "python",
   "nbconvert_exporter": "python",
   "pygments_lexer": "ipython3",
   "version": "3.5.3"
  }
 },
 "nbformat": 4,
 "nbformat_minor": 0
}
